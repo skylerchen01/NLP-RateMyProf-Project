{
 "cells": [
  {
   "cell_type": "markdown",
   "metadata": {},
   "source": [
    "# DATA LABEL\n",
    "since our data is unlabeled, here we use a package inside NLTK called VADAR for sentiment analysis。\n",
    "#### VADER\n",
    "VADER stands for Valence Aware Dictionary for Sentiment Reasoning. It is a lexicon and rule-based classification model for sentiment analysis, specially designed for sentiments expressed on social media platforms. It is available in the NLTK library in Python and can be used on a dataset that is not labelled."
   ]
  },
  {
   "cell_type": "code",
   "execution_count": 7,
   "metadata": {},
   "outputs": [
    {
     "name": "stdout",
     "output_type": "stream",
     "text": [
      "   Unnamed: 0  professor_name  \\\n",
      "0           0  Leslie  Looney   \n",
      "1           1  Leslie  Looney   \n",
      "2           2  Leslie  Looney   \n",
      "3           3  Leslie  Looney   \n",
      "4           4  Leslie  Looney   \n",
      "\n",
      "                                  processed_comments  \n",
      "0  this class is hard but its a twoinone gened kn...  \n",
      "1  definitely going to choose prof class again in...  \n",
      "2  i overall enjoyed this class because the assig...  \n",
      "3  yes possible to get an a but definitely have t...  \n",
      "4  professor looney has great knowledge in astron...  \n"
     ]
    },
    {
     "name": "stderr",
     "output_type": "stream",
     "text": [
      "[nltk_data] Downloading package vader_lexicon to\n",
      "[nltk_data]     /Users/zhangyuanxin/nltk_data...\n",
      "[nltk_data]   Package vader_lexicon is already up-to-date!\n"
     ]
    }
   ],
   "source": [
    "import nltk\n",
    "from nltk.sentiment.vader import SentimentIntensityAnalyzer\n",
    "nltk.download(\"vader_lexicon\")\n",
    "import pandas as pd\n",
    "data = pd.read_csv(\"processed.csv\")\n",
    "data = data.dropna()\n",
    "print(data.head())"
   ]
  },
  {
   "cell_type": "code",
   "execution_count": 10,
   "metadata": {},
   "outputs": [
    {
     "data": {
      "text/html": [
       "<div>\n",
       "<style scoped>\n",
       "    .dataframe tbody tr th:only-of-type {\n",
       "        vertical-align: middle;\n",
       "    }\n",
       "\n",
       "    .dataframe tbody tr th {\n",
       "        vertical-align: top;\n",
       "    }\n",
       "\n",
       "    .dataframe thead th {\n",
       "        text-align: right;\n",
       "    }\n",
       "</style>\n",
       "<table border=\"1\" class=\"dataframe\">\n",
       "  <thead>\n",
       "    <tr style=\"text-align: right;\">\n",
       "      <th></th>\n",
       "      <th>professor_name</th>\n",
       "      <th>processed_comments</th>\n",
       "      <th>Positive</th>\n",
       "      <th>Negative</th>\n",
       "      <th>Compound</th>\n",
       "    </tr>\n",
       "  </thead>\n",
       "  <tbody>\n",
       "    <tr>\n",
       "      <th>0</th>\n",
       "      <td>Leslie  Looney</td>\n",
       "      <td>this class is hard but its a twoinone gened kn...</td>\n",
       "      <td>0.293</td>\n",
       "      <td>0.022</td>\n",
       "      <td>0.9488</td>\n",
       "    </tr>\n",
       "    <tr>\n",
       "      <th>1</th>\n",
       "      <td>Leslie  Looney</td>\n",
       "      <td>definitely going to choose prof class again in...</td>\n",
       "      <td>0.354</td>\n",
       "      <td>0.000</td>\n",
       "      <td>0.9423</td>\n",
       "    </tr>\n",
       "    <tr>\n",
       "      <th>2</th>\n",
       "      <td>Leslie  Looney</td>\n",
       "      <td>i overall enjoyed this class because the assig...</td>\n",
       "      <td>0.426</td>\n",
       "      <td>0.054</td>\n",
       "      <td>0.9325</td>\n",
       "    </tr>\n",
       "    <tr>\n",
       "      <th>3</th>\n",
       "      <td>Leslie  Looney</td>\n",
       "      <td>yes possible to get an a but definitely have t...</td>\n",
       "      <td>0.300</td>\n",
       "      <td>0.038</td>\n",
       "      <td>0.9655</td>\n",
       "    </tr>\n",
       "    <tr>\n",
       "      <th>4</th>\n",
       "      <td>Leslie  Looney</td>\n",
       "      <td>professor looney has great knowledge in astron...</td>\n",
       "      <td>0.436</td>\n",
       "      <td>0.026</td>\n",
       "      <td>0.9870</td>\n",
       "    </tr>\n",
       "  </tbody>\n",
       "</table>\n",
       "</div>"
      ],
      "text/plain": [
       "   professor_name                                 processed_comments  \\\n",
       "0  Leslie  Looney  this class is hard but its a twoinone gened kn...   \n",
       "1  Leslie  Looney  definitely going to choose prof class again in...   \n",
       "2  Leslie  Looney  i overall enjoyed this class because the assig...   \n",
       "3  Leslie  Looney  yes possible to get an a but definitely have t...   \n",
       "4  Leslie  Looney  professor looney has great knowledge in astron...   \n",
       "\n",
       "   Positive  Negative  Compound  \n",
       "0     0.293     0.022    0.9488  \n",
       "1     0.354     0.000    0.9423  \n",
       "2     0.426     0.054    0.9325  \n",
       "3     0.300     0.038    0.9655  \n",
       "4     0.436     0.026    0.9870  "
      ]
     },
     "execution_count": 10,
     "metadata": {},
     "output_type": "execute_result"
    }
   ],
   "source": [
    "sentiments = SentimentIntensityAnalyzer()\n",
    "data[\"Positive\"] = [sentiments.polarity_scores(i)[\"pos\"] for i in data[\"processed_comments\"]]\n",
    "data[\"Negative\"] = [sentiments.polarity_scores(i)[\"neg\"] for i in data[\"processed_comments\"]]\n",
    "data['Compound'] = [sentiments.polarity_scores(i)[\"compound\"] for i in data[\"processed_comments\"]]\n",
    "del data[\"Unnamed: 0\"]\n",
    "data.head()"
   ]
  },
  {
   "cell_type": "code",
   "execution_count": 13,
   "metadata": {},
   "outputs": [
    {
     "data": {
      "text/html": [
       "<div>\n",
       "<style scoped>\n",
       "    .dataframe tbody tr th:only-of-type {\n",
       "        vertical-align: middle;\n",
       "    }\n",
       "\n",
       "    .dataframe tbody tr th {\n",
       "        vertical-align: top;\n",
       "    }\n",
       "\n",
       "    .dataframe thead th {\n",
       "        text-align: right;\n",
       "    }\n",
       "</style>\n",
       "<table border=\"1\" class=\"dataframe\">\n",
       "  <thead>\n",
       "    <tr style=\"text-align: right;\">\n",
       "      <th></th>\n",
       "      <th>professor_name</th>\n",
       "      <th>processed_comments</th>\n",
       "      <th>index</th>\n",
       "      <th>Sentiment</th>\n",
       "      <th>Positive</th>\n",
       "      <th>Negative</th>\n",
       "      <th>Compound</th>\n",
       "    </tr>\n",
       "  </thead>\n",
       "  <tbody>\n",
       "    <tr>\n",
       "      <th>0</th>\n",
       "      <td>Leslie  Looney</td>\n",
       "      <td>this class is hard but its a twoinone gened kn...</td>\n",
       "      <td>1</td>\n",
       "      <td>Positive</td>\n",
       "      <td>0.293</td>\n",
       "      <td>0.022</td>\n",
       "      <td>0.9488</td>\n",
       "    </tr>\n",
       "    <tr>\n",
       "      <th>1</th>\n",
       "      <td>Leslie  Looney</td>\n",
       "      <td>definitely going to choose prof class again in...</td>\n",
       "      <td>1</td>\n",
       "      <td>Positive</td>\n",
       "      <td>0.354</td>\n",
       "      <td>0.000</td>\n",
       "      <td>0.9423</td>\n",
       "    </tr>\n",
       "    <tr>\n",
       "      <th>2</th>\n",
       "      <td>Leslie  Looney</td>\n",
       "      <td>i overall enjoyed this class because the assig...</td>\n",
       "      <td>1</td>\n",
       "      <td>Positive</td>\n",
       "      <td>0.426</td>\n",
       "      <td>0.054</td>\n",
       "      <td>0.9325</td>\n",
       "    </tr>\n",
       "    <tr>\n",
       "      <th>3</th>\n",
       "      <td>Leslie  Looney</td>\n",
       "      <td>yes possible to get an a but definitely have t...</td>\n",
       "      <td>1</td>\n",
       "      <td>Positive</td>\n",
       "      <td>0.300</td>\n",
       "      <td>0.038</td>\n",
       "      <td>0.9655</td>\n",
       "    </tr>\n",
       "    <tr>\n",
       "      <th>4</th>\n",
       "      <td>Leslie  Looney</td>\n",
       "      <td>professor looney has great knowledge in astron...</td>\n",
       "      <td>1</td>\n",
       "      <td>Positive</td>\n",
       "      <td>0.436</td>\n",
       "      <td>0.026</td>\n",
       "      <td>0.9870</td>\n",
       "    </tr>\n",
       "  </tbody>\n",
       "</table>\n",
       "</div>"
      ],
      "text/plain": [
       "   professor_name                                 processed_comments index  \\\n",
       "0  Leslie  Looney  this class is hard but its a twoinone gened kn...     1   \n",
       "1  Leslie  Looney  definitely going to choose prof class again in...     1   \n",
       "2  Leslie  Looney  i overall enjoyed this class because the assig...     1   \n",
       "3  Leslie  Looney  yes possible to get an a but definitely have t...     1   \n",
       "4  Leslie  Looney  professor looney has great knowledge in astron...     1   \n",
       "\n",
       "  Sentiment  Positive  Negative  Compound  \n",
       "0  Positive     0.293     0.022    0.9488  \n",
       "1  Positive     0.354     0.000    0.9423  \n",
       "2  Positive     0.426     0.054    0.9325  \n",
       "3  Positive     0.300     0.038    0.9655  \n",
       "4  Positive     0.436     0.026    0.9870  "
      ]
     },
     "execution_count": 13,
     "metadata": {},
     "output_type": "execute_result"
    }
   ],
   "source": [
    "score = data[\"Compound\"].values\n",
    "sentiment = []\n",
    "index = []\n",
    "for i in score:\n",
    "    if i > 0 :\n",
    "        sentiment.append('Positive')\n",
    "        index.append(\"1\")\n",
    "    else:\n",
    "        sentiment.append('Negative')\n",
    "        index.append(\"0\")\n",
    "data[\"Sentiment\"] = sentiment\n",
    "data[\"index\"] = index\n",
    "\n",
    "data = data[[\"professor_name\",\"processed_comments\",\"index\",\"Sentiment\",\"Positive\",\"Negative\",\"Compound\",]]\n",
    "data.head()"
   ]
  },
  {
   "cell_type": "code",
   "execution_count": 14,
   "metadata": {},
   "outputs": [
    {
     "name": "stdout",
     "output_type": "stream",
     "text": [
      "Positive    14155\n",
      "Negative     5820\n",
      "Name: Sentiment, dtype: int64\n"
     ]
    }
   ],
   "source": [
    "print(data[\"Sentiment\"].value_counts())"
   ]
  },
  {
   "cell_type": "code",
   "execution_count": 15,
   "metadata": {},
   "outputs": [],
   "source": [
    "data.to_csv(\"labeled_data.csv\")"
   ]
  }
 ],
 "metadata": {
  "kernelspec": {
   "display_name": "Python 3.9.12 ('base')",
   "language": "python",
   "name": "python3"
  },
  "language_info": {
   "codemirror_mode": {
    "name": "ipython",
    "version": 3
   },
   "file_extension": ".py",
   "mimetype": "text/x-python",
   "name": "python",
   "nbconvert_exporter": "python",
   "pygments_lexer": "ipython3",
   "version": "3.9.12"
  },
  "orig_nbformat": 4,
  "vscode": {
   "interpreter": {
    "hash": "40d3a090f54c6569ab1632332b64b2c03c39dcf918b08424e98f38b5ae0af88f"
   }
  }
 },
 "nbformat": 4,
 "nbformat_minor": 2
}
