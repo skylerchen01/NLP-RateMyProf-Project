{
 "cells": [
  {
   "cell_type": "code",
   "execution_count": 515,
   "metadata": {},
   "outputs": [
    {
     "name": "stderr",
     "output_type": "stream",
     "text": [
      "/var/folders/6f/v5_vm1k90cdc80sb2rp4zc3m0000gn/T/ipykernel_8130/3288001004.py:6: DeprecationWarning: executable_path has been deprecated, please pass in a Service object\n",
      "  driver= webdriver.Chrome(executable_path=\"/usr/local/chromedriver\",options=option)\n"
     ]
    }
   ],
   "source": [
    "from selenium import webdriver\n",
    "from selenium.webdriver.support.select import Select\n",
    "\n",
    "option = webdriver.ChromeOptions()\n",
    "option.add_argument('User Agent= \"Mozilla/5.0 (Macintosh; Intel Mac OS X 10_15_7) AppleWebKit/537.36 (KHTML, like Gecko) Chrome/106.0.0.0 Safari/537.36\"')\n",
    "driver= webdriver.Chrome(executable_path=\"/usr/local/chromedriver\",options=option)\n",
    "url = \"https://sis.portal.nyu.edu/psp/ihprod/EMPLOYEE/EMPL/h/?tab=IS_SSS_TAB\"\n",
    "driver.get(url)\n",
    "driver.maximize_window()\n",
    "\n"
   ]
  },
  {
   "cell_type": "code",
   "execution_count": 516,
   "metadata": {},
   "outputs": [],
   "source": [
    "# sign in\n",
    "name = driver.find_element(By.ID,\"username\")\n",
    "name.send_keys(\"yz6201\")\n",
    "password = driver.find_element(By.ID,\"password\")\n",
    "password.send_keys(\"zyX010617@\")\n",
    "login_button = driver.find_element(By.NAME,\"_eventId_proceed\")\n",
    "login_button.click()\n",
    "driver.implicitly_wait(10)"
   ]
  },
  {
   "cell_type": "code",
   "execution_count": 517,
   "metadata": {},
   "outputs": [],
   "source": [
    "# scroll and pop out\n",
    "xp = driver.find_element(By.XPATH, \"//*[@id='nyuSSSHomeLinksStatic']/div/div/ul/li[4]/a\").click()\n",
    "driver.implicitly_wait(5)\n"
   ]
  },
  {
   "cell_type": "code",
   "execution_count": 518,
   "metadata": {},
   "outputs": [],
   "source": [
    "# Choice\n",
    "# first we need to move iframe\n",
    "xf = driver.find_element(By.XPATH, \"//*[@id='lbFrameContent']\")\n",
    "driver.switch_to.frame(xf)\n"
   ]
  },
  {
   "cell_type": "code",
   "execution_count": 436,
   "metadata": {},
   "outputs": [
    {
     "ename": "JavascriptException",
     "evalue": "Message: javascript error: Cannot read properties of undefined (reading 'length')\n  (Session info: chrome=106.0.5249.91)\nStacktrace:\n0   chromedriver                        0x0000000100f83598 chromedriver + 4404632\n1   chromedriver                        0x0000000100f0afa3 chromedriver + 3911587\n2   chromedriver                        0x0000000100bb7e6a chromedriver + 425578\n3   chromedriver                        0x0000000100bbb037 chromedriver + 438327\n4   chromedriver                        0x0000000100bbaed7 chromedriver + 437975\n5   chromedriver                        0x0000000100bbbb00 chromedriver + 441088\n6   chromedriver                        0x0000000100c25c1f chromedriver + 875551\n7   chromedriver                        0x0000000100c0dda2 chromedriver + 777634\n8   chromedriver                        0x0000000100c24f79 chromedriver + 872313\n9   chromedriver                        0x0000000100c0dbd3 chromedriver + 777171\n10  chromedriver                        0x0000000100be2ced chromedriver + 601325\n11  chromedriver                        0x0000000100be3e51 chromedriver + 605777\n12  chromedriver                        0x0000000100f530ce chromedriver + 4206798\n13  chromedriver                        0x0000000100f57797 chromedriver + 4224919\n14  chromedriver                        0x0000000100f5ea4f chromedriver + 4254287\n15  chromedriver                        0x0000000100f584da chromedriver + 4228314\n16  chromedriver                        0x0000000100f3123f chromedriver + 4067903\n17  chromedriver                        0x0000000100f756a8 chromedriver + 4347560\n18  chromedriver                        0x0000000100f75816 chromedriver + 4347926\n19  chromedriver                        0x0000000100f8a8fe chromedriver + 4434174\n20  libsystem_pthread.dylib             0x00007ff81a2454e1 _pthread_start + 125\n21  libsystem_pthread.dylib             0x00007ff81a240f6b thread_start + 15\n",
     "output_type": "error",
     "traceback": [
      "\u001b[0;31m---------------------------------------------------------------------------\u001b[0m",
      "\u001b[0;31mJavascriptException\u001b[0m                       Traceback (most recent call last)",
      "\u001b[1;32m/Users/zhangyuanxin/Desktop/ML/Albert Scraping/albert scraping.ipynb Cell 5\u001b[0m in \u001b[0;36m<cell line: 31>\u001b[0;34m()\u001b[0m\n\u001b[1;32m     <a href='vscode-notebook-cell:/Users/zhangyuanxin/Desktop/ML/Albert%20Scraping/albert%20scraping.ipynb#X32sZmlsZQ%3D%3D?line=28'>29</a>\u001b[0m driver\u001b[39m.\u001b[39mimplicitly_wait(\u001b[39m1\u001b[39m)\n\u001b[1;32m     <a href='vscode-notebook-cell:/Users/zhangyuanxin/Desktop/ML/Albert%20Scraping/albert%20scraping.ipynb#X32sZmlsZQ%3D%3D?line=29'>30</a>\u001b[0m driver\u001b[39m.\u001b[39mexecute_script(\u001b[39m\"\u001b[39m\u001b[39mjavascript:cancelBubble(event);\u001b[39m\u001b[39m\"\u001b[39m)\n\u001b[0;32m---> <a href='vscode-notebook-cell:/Users/zhangyuanxin/Desktop/ML/Albert%20Scraping/albert%20scraping.ipynb#X32sZmlsZQ%3D%3D?line=30'>31</a>\u001b[0m driver\u001b[39m.\u001b[39;49mexecute_script(\u001b[39m\"\u001b[39;49m\u001b[39mjavascript:addchg_win0(this);submitAction_win0(this.form,this.id);\u001b[39;49m\u001b[39m\"\u001b[39;49m)\n\u001b[1;32m     <a href='vscode-notebook-cell:/Users/zhangyuanxin/Desktop/ML/Albert%20Scraping/albert%20scraping.ipynb#X32sZmlsZQ%3D%3D?line=31'>32</a>\u001b[0m driver\u001b[39m.\u001b[39mexecute_script(\u001b[39m\"\u001b[39m\u001b[39mif ((typeof isLoaderInProcess == \u001b[39m\u001b[39m'\u001b[39m\u001b[39mfunction\u001b[39m\u001b[39m'\u001b[39m\u001b[39m) &amp;&amp; isLoaderInProcess() &amp;&amp; ptCommonObj2!=null) \u001b[39m\u001b[39m{\u001b[39m\u001b[39m ptCommonObj2.terminateEvent(event); } \u001b[39m\u001b[39m\"\u001b[39m)\n\u001b[1;32m     <a href='vscode-notebook-cell:/Users/zhangyuanxin/Desktop/ML/Albert%20Scraping/albert%20scraping.ipynb#X32sZmlsZQ%3D%3D?line=32'>33</a>\u001b[0m \u001b[39m#then we locate the second dropdown list\u001b[39;00m\n",
      "File \u001b[0;32m/opt/anaconda3/lib/python3.9/site-packages/selenium/webdriver/remote/webdriver.py:492\u001b[0m, in \u001b[0;36mWebDriver.execute_script\u001b[0;34m(self, script, *args)\u001b[0m\n\u001b[1;32m    489\u001b[0m converted_args \u001b[39m=\u001b[39m \u001b[39mlist\u001b[39m(args)\n\u001b[1;32m    490\u001b[0m command \u001b[39m=\u001b[39m Command\u001b[39m.\u001b[39mW3C_EXECUTE_SCRIPT\n\u001b[0;32m--> 492\u001b[0m \u001b[39mreturn\u001b[39;00m \u001b[39mself\u001b[39;49m\u001b[39m.\u001b[39;49mexecute(command, {\n\u001b[1;32m    493\u001b[0m     \u001b[39m'\u001b[39;49m\u001b[39mscript\u001b[39;49m\u001b[39m'\u001b[39;49m: script,\n\u001b[1;32m    494\u001b[0m     \u001b[39m'\u001b[39;49m\u001b[39margs\u001b[39;49m\u001b[39m'\u001b[39;49m: converted_args})[\u001b[39m'\u001b[39m\u001b[39mvalue\u001b[39m\u001b[39m'\u001b[39m]\n",
      "File \u001b[0;32m/opt/anaconda3/lib/python3.9/site-packages/selenium/webdriver/remote/webdriver.py:429\u001b[0m, in \u001b[0;36mWebDriver.execute\u001b[0;34m(self, driver_command, params)\u001b[0m\n\u001b[1;32m    427\u001b[0m response \u001b[39m=\u001b[39m \u001b[39mself\u001b[39m\u001b[39m.\u001b[39mcommand_executor\u001b[39m.\u001b[39mexecute(driver_command, params)\n\u001b[1;32m    428\u001b[0m \u001b[39mif\u001b[39;00m response:\n\u001b[0;32m--> 429\u001b[0m     \u001b[39mself\u001b[39;49m\u001b[39m.\u001b[39;49merror_handler\u001b[39m.\u001b[39;49mcheck_response(response)\n\u001b[1;32m    430\u001b[0m     response[\u001b[39m'\u001b[39m\u001b[39mvalue\u001b[39m\u001b[39m'\u001b[39m] \u001b[39m=\u001b[39m \u001b[39mself\u001b[39m\u001b[39m.\u001b[39m_unwrap_value(\n\u001b[1;32m    431\u001b[0m         response\u001b[39m.\u001b[39mget(\u001b[39m'\u001b[39m\u001b[39mvalue\u001b[39m\u001b[39m'\u001b[39m, \u001b[39mNone\u001b[39;00m))\n\u001b[1;32m    432\u001b[0m     \u001b[39mreturn\u001b[39;00m response\n",
      "File \u001b[0;32m/opt/anaconda3/lib/python3.9/site-packages/selenium/webdriver/remote/errorhandler.py:243\u001b[0m, in \u001b[0;36mErrorHandler.check_response\u001b[0;34m(self, response)\u001b[0m\n\u001b[1;32m    241\u001b[0m         alert_text \u001b[39m=\u001b[39m value[\u001b[39m'\u001b[39m\u001b[39malert\u001b[39m\u001b[39m'\u001b[39m]\u001b[39m.\u001b[39mget(\u001b[39m'\u001b[39m\u001b[39mtext\u001b[39m\u001b[39m'\u001b[39m)\n\u001b[1;32m    242\u001b[0m     \u001b[39mraise\u001b[39;00m exception_class(message, screen, stacktrace, alert_text)  \u001b[39m# type: ignore[call-arg]  # mypy is not smart enough here\u001b[39;00m\n\u001b[0;32m--> 243\u001b[0m \u001b[39mraise\u001b[39;00m exception_class(message, screen, stacktrace)\n",
      "\u001b[0;31mJavascriptException\u001b[0m: Message: javascript error: Cannot read properties of undefined (reading 'length')\n  (Session info: chrome=106.0.5249.91)\nStacktrace:\n0   chromedriver                        0x0000000100f83598 chromedriver + 4404632\n1   chromedriver                        0x0000000100f0afa3 chromedriver + 3911587\n2   chromedriver                        0x0000000100bb7e6a chromedriver + 425578\n3   chromedriver                        0x0000000100bbb037 chromedriver + 438327\n4   chromedriver                        0x0000000100bbaed7 chromedriver + 437975\n5   chromedriver                        0x0000000100bbbb00 chromedriver + 441088\n6   chromedriver                        0x0000000100c25c1f chromedriver + 875551\n7   chromedriver                        0x0000000100c0dda2 chromedriver + 777634\n8   chromedriver                        0x0000000100c24f79 chromedriver + 872313\n9   chromedriver                        0x0000000100c0dbd3 chromedriver + 777171\n10  chromedriver                        0x0000000100be2ced chromedriver + 601325\n11  chromedriver                        0x0000000100be3e51 chromedriver + 605777\n12  chromedriver                        0x0000000100f530ce chromedriver + 4206798\n13  chromedriver                        0x0000000100f57797 chromedriver + 4224919\n14  chromedriver                        0x0000000100f5ea4f chromedriver + 4254287\n15  chromedriver                        0x0000000100f584da chromedriver + 4228314\n16  chromedriver                        0x0000000100f3123f chromedriver + 4067903\n17  chromedriver                        0x0000000100f756a8 chromedriver + 4347560\n18  chromedriver                        0x0000000100f75816 chromedriver + 4347926\n19  chromedriver                        0x0000000100f8a8fe chromedriver + 4434174\n20  libsystem_pthread.dylib             0x00007ff81a2454e1 _pthread_start + 125\n21  libsystem_pthread.dylib             0x00007ff81a240f6b thread_start + 15\n"
     ]
    }
   ],
   "source": [
    "'''\n",
    "<select id=\"NYU_CEV_PUB_DER_STRM\" class=\"ps-dropdown\" size=\"1\" onclick=\"javascript:cancelBubble(event);\" onchange=\"addchg_win0(this);submitAction_win0(this.form,this.id);\" onkeydown=\"if ((typeof isLoaderInProcess == 'function') &amp;&amp; isLoaderInProcess() &amp;&amp; ptCommonObj2!=null) { ptCommonObj2.terminateEvent(event); } \" aria-required=\"true\">\n",
    "<option value=\"xx\">--Select--</option>\n",
    "<option value=\"1226\" selected=\"selected\">01 - Summer 2022</option>\n",
    "<option value=\"1224\">02 - Spring 2022</option>\n",
    "<option value=\"1222\">03 - January 2022</option>\n",
    "<option value=\"1218\">04 - Fall 2021</option>\n",
    "<option value=\"1216\">05 - Summer 2021</option>\n",
    "<option value=\"1214\">06 - Spring 2021</option>\n",
    "<option value=\"1212\">07 - January 2021</option>\n",
    "<option value=\"1208\">08 - Fall 2020</option>\n",
    "<option value=\"1206\">09 - Summer 2020</option>\n",
    "<option value=\"1202\">10 - January 2020</option>\n",
    "<option value=\"1198\">11 - Fall 2019</option>\n",
    "<option value=\"1196\">12 - Summer 2019</option>\n",
    "<option value=\"1194\">13 - Spring 2019</option>\n",
    "<option value=\"1192\">14 - January 2019</option>\n",
    "<option value=\"1188\">15 - Fall 2018</option>\n",
    "<option value=\"1186\">16 - Summer 2018</option>\n",
    "<option value=\"1184\">17 - Spring 2018</option>\n",
    "<option value=\"1182\">18 - January 2018</option>\n",
    "<option value=\"1178\">19 - Fall 2017</option>\n",
    "</select>\n",
    "'''\n",
    "\n",
    "#then we locate the first dropdown list\n",
    "sel2 = Select(driver.find_element(By.XPATH, \"//*[@id='NYU_CEV_PUB_DER_STRM']\"))\n",
    "sel2.select_by_value('1226')\n",
    "driver.implicitly_wait(1)\n",
    "driver.execute_script(\"javascript:cancelBubble(event);\")\n",
    "driver.execute_script(\"javascript:addchg_win0(this);submitAction_win0(this.form,this.id);\")\n",
    "driver.execute_script(\"if ((typeof isLoaderInProcess == 'function') &amp;&amp; isLoaderInProcess() &amp;&amp; ptCommonObj2!=null) { ptCommonObj2.terminateEvent(event); } \")\n",
    "#then we locate the second dropdown list\n",
    "\n",
    "sel2 = Select(driver.find_element(By.XPATH, \"//*[@id='NYU_CEV_PUB_DER_ACAD_ORG']\"))\n",
    "sel2.select_by_value('UA')\n",
    "driver.implicitly_wait(1)\n",
    "#then we locate the third dropdown list\n",
    "\n",
    "sel3 = Select(driver.find_element(By.XPATH,\"//*[@id='NYU_CEV_PUB_DER_DESCRFORMAL']\"))\n",
    "sel3.select_by_value(\"ANTH-UA\")\n",
    "driver.implicitly_wait(1)"
   ]
  },
  {
   "cell_type": "code",
   "execution_count": 440,
   "metadata": {},
   "outputs": [],
   "source": [
    "import pandas as pd\n",
    "dataset = pd.DataFrame()"
   ]
  },
  {
   "cell_type": "code",
   "execution_count": 627,
   "metadata": {},
   "outputs": [],
   "source": [
    "new_dataset = pd.DataFrame()"
   ]
  },
  {
   "cell_type": "code",
   "execution_count": 662,
   "metadata": {},
   "outputs": [
    {
     "ename": "NoSuchElementException",
     "evalue": "Message: no such element: Unable to locate element: {\"method\":\"xpath\",\"selector\":\"//*[@id='NYU_CEV_PUB_WRK_NYU_TERM_DESCR']\"}\n  (Session info: chrome=106.0.5249.91)\nStacktrace:\n0   chromedriver                        0x00000001029d9598 chromedriver + 4404632\n1   chromedriver                        0x0000000102960fa3 chromedriver + 3911587\n2   chromedriver                        0x000000010260de6a chromedriver + 425578\n3   chromedriver                        0x0000000102645c91 chromedriver + 654481\n4   chromedriver                        0x0000000102645e91 chromedriver + 654993\n5   chromedriver                        0x000000010267d274 chromedriver + 881268\n6   chromedriver                        0x0000000102663dcd chromedriver + 777677\n7   chromedriver                        0x000000010267af79 chromedriver + 872313\n8   chromedriver                        0x0000000102663bd3 chromedriver + 777171\n9   chromedriver                        0x0000000102638ced chromedriver + 601325\n10  chromedriver                        0x0000000102639e51 chromedriver + 605777\n11  chromedriver                        0x00000001029a90ce chromedriver + 4206798\n12  chromedriver                        0x00000001029ad797 chromedriver + 4224919\n13  chromedriver                        0x00000001029b4a4f chromedriver + 4254287\n14  chromedriver                        0x00000001029ae4da chromedriver + 4228314\n15  chromedriver                        0x000000010298723f chromedriver + 4067903\n16  chromedriver                        0x00000001029cb6a8 chromedriver + 4347560\n17  chromedriver                        0x00000001029cb816 chromedriver + 4347926\n18  chromedriver                        0x00000001029e08fe chromedriver + 4434174\n19  libsystem_pthread.dylib             0x00007ff81a2454e1 _pthread_start + 125\n20  libsystem_pthread.dylib             0x00007ff81a240f6b thread_start + 15\n",
     "output_type": "error",
     "traceback": [
      "\u001b[0;31m---------------------------------------------------------------------------\u001b[0m",
      "\u001b[0;31mNoSuchElementException\u001b[0m                    Traceback (most recent call last)",
      "\u001b[1;32m/Users/zhangyuanxin/Desktop/ML/Albert Scraping/albert scraping.ipynb Cell 8\u001b[0m in \u001b[0;36m<cell line: 4>\u001b[0;34m()\u001b[0m\n\u001b[1;32m      <a href='vscode-notebook-cell:/Users/zhangyuanxin/Desktop/ML/Albert%20Scraping/albert%20scraping.ipynb#X15sZmlsZQ%3D%3D?line=5'>6</a>\u001b[0m driver\u001b[39m.\u001b[39mimplicitly_wait(\u001b[39m20\u001b[39m)\n\u001b[1;32m      <a href='vscode-notebook-cell:/Users/zhangyuanxin/Desktop/ML/Albert%20Scraping/albert%20scraping.ipynb#X15sZmlsZQ%3D%3D?line=6'>7</a>\u001b[0m \u001b[39m# Here we record the basic info of the course and professors\u001b[39;00m\n\u001b[0;32m----> <a href='vscode-notebook-cell:/Users/zhangyuanxin/Desktop/ML/Albert%20Scraping/albert%20scraping.ipynb#X15sZmlsZQ%3D%3D?line=7'>8</a>\u001b[0m term \u001b[39m=\u001b[39m driver\u001b[39m.\u001b[39;49mfind_element(By\u001b[39m.\u001b[39;49mXPATH, \u001b[39m\"\u001b[39;49m\u001b[39m//*[@id=\u001b[39;49m\u001b[39m'\u001b[39;49m\u001b[39mNYU_CEV_PUB_WRK_NYU_TERM_DESCR\u001b[39;49m\u001b[39m'\u001b[39;49m\u001b[39m]\u001b[39;49m\u001b[39m\"\u001b[39;49m)\n\u001b[1;32m      <a href='vscode-notebook-cell:/Users/zhangyuanxin/Desktop/ML/Albert%20Scraping/albert%20scraping.ipynb#X15sZmlsZQ%3D%3D?line=8'>9</a>\u001b[0m dic[\u001b[39m\"\u001b[39m\u001b[39mterm\u001b[39m\u001b[39m\"\u001b[39m]\u001b[39m.\u001b[39mappend(term\u001b[39m.\u001b[39mtext)\n\u001b[1;32m     <a href='vscode-notebook-cell:/Users/zhangyuanxin/Desktop/ML/Albert%20Scraping/albert%20scraping.ipynb#X15sZmlsZQ%3D%3D?line=9'>10</a>\u001b[0m class_d \u001b[39m=\u001b[39m driver\u001b[39m.\u001b[39mfind_element(By\u001b[39m.\u001b[39mXPATH, \u001b[39m\"\u001b[39m\u001b[39m//*[@id=\u001b[39m\u001b[39m'\u001b[39m\u001b[39mNYU_CEV_PUB_WRK_DESCRLONG\u001b[39m\u001b[39m'\u001b[39m\u001b[39m]\u001b[39m\u001b[39m\"\u001b[39m)\n",
      "File \u001b[0;32m/opt/anaconda3/lib/python3.9/site-packages/selenium/webdriver/remote/webdriver.py:856\u001b[0m, in \u001b[0;36mWebDriver.find_element\u001b[0;34m(self, by, value)\u001b[0m\n\u001b[1;32m    853\u001b[0m     by \u001b[39m=\u001b[39m By\u001b[39m.\u001b[39mCSS_SELECTOR\n\u001b[1;32m    854\u001b[0m     value \u001b[39m=\u001b[39m \u001b[39m'\u001b[39m\u001b[39m[name=\u001b[39m\u001b[39m\"\u001b[39m\u001b[39m%s\u001b[39;00m\u001b[39m\"\u001b[39m\u001b[39m]\u001b[39m\u001b[39m'\u001b[39m \u001b[39m%\u001b[39m value\n\u001b[0;32m--> 856\u001b[0m \u001b[39mreturn\u001b[39;00m \u001b[39mself\u001b[39;49m\u001b[39m.\u001b[39;49mexecute(Command\u001b[39m.\u001b[39;49mFIND_ELEMENT, {\n\u001b[1;32m    857\u001b[0m     \u001b[39m'\u001b[39;49m\u001b[39musing\u001b[39;49m\u001b[39m'\u001b[39;49m: by,\n\u001b[1;32m    858\u001b[0m     \u001b[39m'\u001b[39;49m\u001b[39mvalue\u001b[39;49m\u001b[39m'\u001b[39;49m: value})[\u001b[39m'\u001b[39m\u001b[39mvalue\u001b[39m\u001b[39m'\u001b[39m]\n",
      "File \u001b[0;32m/opt/anaconda3/lib/python3.9/site-packages/selenium/webdriver/remote/webdriver.py:429\u001b[0m, in \u001b[0;36mWebDriver.execute\u001b[0;34m(self, driver_command, params)\u001b[0m\n\u001b[1;32m    427\u001b[0m response \u001b[39m=\u001b[39m \u001b[39mself\u001b[39m\u001b[39m.\u001b[39mcommand_executor\u001b[39m.\u001b[39mexecute(driver_command, params)\n\u001b[1;32m    428\u001b[0m \u001b[39mif\u001b[39;00m response:\n\u001b[0;32m--> 429\u001b[0m     \u001b[39mself\u001b[39;49m\u001b[39m.\u001b[39;49merror_handler\u001b[39m.\u001b[39;49mcheck_response(response)\n\u001b[1;32m    430\u001b[0m     response[\u001b[39m'\u001b[39m\u001b[39mvalue\u001b[39m\u001b[39m'\u001b[39m] \u001b[39m=\u001b[39m \u001b[39mself\u001b[39m\u001b[39m.\u001b[39m_unwrap_value(\n\u001b[1;32m    431\u001b[0m         response\u001b[39m.\u001b[39mget(\u001b[39m'\u001b[39m\u001b[39mvalue\u001b[39m\u001b[39m'\u001b[39m, \u001b[39mNone\u001b[39;00m))\n\u001b[1;32m    432\u001b[0m     \u001b[39mreturn\u001b[39;00m response\n",
      "File \u001b[0;32m/opt/anaconda3/lib/python3.9/site-packages/selenium/webdriver/remote/errorhandler.py:243\u001b[0m, in \u001b[0;36mErrorHandler.check_response\u001b[0;34m(self, response)\u001b[0m\n\u001b[1;32m    241\u001b[0m         alert_text \u001b[39m=\u001b[39m value[\u001b[39m'\u001b[39m\u001b[39malert\u001b[39m\u001b[39m'\u001b[39m]\u001b[39m.\u001b[39mget(\u001b[39m'\u001b[39m\u001b[39mtext\u001b[39m\u001b[39m'\u001b[39m)\n\u001b[1;32m    242\u001b[0m     \u001b[39mraise\u001b[39;00m exception_class(message, screen, stacktrace, alert_text)  \u001b[39m# type: ignore[call-arg]  # mypy is not smart enough here\u001b[39;00m\n\u001b[0;32m--> 243\u001b[0m \u001b[39mraise\u001b[39;00m exception_class(message, screen, stacktrace)\n",
      "\u001b[0;31mNoSuchElementException\u001b[0m: Message: no such element: Unable to locate element: {\"method\":\"xpath\",\"selector\":\"//*[@id='NYU_CEV_PUB_WRK_NYU_TERM_DESCR']\"}\n  (Session info: chrome=106.0.5249.91)\nStacktrace:\n0   chromedriver                        0x00000001029d9598 chromedriver + 4404632\n1   chromedriver                        0x0000000102960fa3 chromedriver + 3911587\n2   chromedriver                        0x000000010260de6a chromedriver + 425578\n3   chromedriver                        0x0000000102645c91 chromedriver + 654481\n4   chromedriver                        0x0000000102645e91 chromedriver + 654993\n5   chromedriver                        0x000000010267d274 chromedriver + 881268\n6   chromedriver                        0x0000000102663dcd chromedriver + 777677\n7   chromedriver                        0x000000010267af79 chromedriver + 872313\n8   chromedriver                        0x0000000102663bd3 chromedriver + 777171\n9   chromedriver                        0x0000000102638ced chromedriver + 601325\n10  chromedriver                        0x0000000102639e51 chromedriver + 605777\n11  chromedriver                        0x00000001029a90ce chromedriver + 4206798\n12  chromedriver                        0x00000001029ad797 chromedriver + 4224919\n13  chromedriver                        0x00000001029b4a4f chromedriver + 4254287\n14  chromedriver                        0x00000001029ae4da chromedriver + 4228314\n15  chromedriver                        0x000000010298723f chromedriver + 4067903\n16  chromedriver                        0x00000001029cb6a8 chromedriver + 4347560\n17  chromedriver                        0x00000001029cb816 chromedriver + 4347926\n18  chromedriver                        0x00000001029e08fe chromedriver + 4434174\n19  libsystem_pthread.dylib             0x00007ff81a2454e1 _pthread_start + 125\n20  libsystem_pthread.dylib             0x00007ff81a240f6b thread_start + 15\n"
     ]
    }
   ],
   "source": [
    "dic = {\"term\":[],\"Class Description\":[], \"Location\":[],\"Instructor(s)\":[],\"Total Enrolled\":[],\"Total Response\":[],\"Response Rate\":[],\"evaluation\":[],\"evaluation2\":[]}\n",
    "rows = driver.find_element(By.XPATH,\"//*[@id='win0divSUBJECT2rowcnt$0']/span\")\n",
    "temp = int(rows.text[0:2])\n",
    "for i in range(0,temp):\n",
    "    course = driver.find_element(By.XPATH, \"//*[@id='EVAL_BTN$%d']\"%i).click()\n",
    "    driver.implicitly_wait(20)\n",
    "    # Here we record the basic info of the course and professors\n",
    "    term = driver.find_element(By.XPATH, \"//*[@id='NYU_CEV_PUB_WRK_NYU_TERM_DESCR']\")\n",
    "    dic[\"term\"].append(term.text)\n",
    "    class_d = driver.find_element(By.XPATH, \"//*[@id='NYU_CEV_PUB_WRK_DESCRLONG']\")\n",
    "    dic[\"Class Description\"].append(class_d.text)\n",
    "    loc = driver.find_element(By.XPATH,\"//*[@id='NYU_CEV_CLS_VW2_LOCATION_DESCR']\")\n",
    "    dic[\"Location\"].append(loc.text)\n",
    "    instr = driver.find_element(By.XPATH,\"//*[@id='NYU_CEV_CLS_VW2_NYU_INSTR_EVAL_Y']\")\n",
    "    dic['Instructor(s)'].append(instr.text)\n",
    "    total_e = driver.find_element(By.XPATH,\"//*[@id='NYU_CEV_PUB_WRK_NYU_CRSEVL_Q_ENROL']\")\n",
    "    dic[\"Total Enrolled\"].append(total_e.text)\n",
    "    total_r = driver.find_element(By.XPATH,\"//*[@id='NYU_CEV_PUB_WRK_NYU_CRSEVL_Q_TOT_R']\")\n",
    "    dic[\"Total Response\"].append(total_r.text)\n",
    "    response_r = driver.find_element(By.XPATH,\"//*[@id='NYU_CEV_PUB_WRK_NYU_CRSEVL_PERCENT']\")\n",
    "    dic[\"Response Rate\"].append(response_r.text)\n",
    "    #Here we open the course questions to see the rates first\n",
    "    course_q = driver.find_element(By.ID,\"DESCR100_Q$0\").click()\n",
    "    evaluation = driver.find_element(By.XPATH,\"//*[@id='win0divDESCR2$grid$0']/table/tbody\")\n",
    "    dic[\"evaluation\"].append(evaluation.text)\n",
    "    #Here we open the instructor questions to see the rates next\n",
    "    instructor_q = driver.find_element(By.ID, \"DESCR100_Q$1\").click()\n",
    "    evaluation2 = driver.find_element(By.XPATH, \"//*[@id='win0divDESCR2$grid$1']/table/tbody\")\n",
    "    dic[\"evaluation2\"].append(evaluation2.text)\n",
    "    # Here we should rerturn to the previous page so that it can continue the loop\n",
    "    if i==temp-1:\n",
    "        return_touch = driver.find_element(By.ID,\"NYU_CEV_PUB_WRK_RETURN_LIST_PB\").click()\n",
    "        break\n",
    "    return_touch = driver.find_element(By.XPATH,\"//*[@id='NYU_CEV_PUB_WRK_RETURN_PB']\").click()\n",
    "new_temp = pd.DataFrame(dic)\n",
    "new_dataset = pd.concat([new_dataset, new_temp])\n",
    "print(new_dataset)\n"
   ]
  },
  {
   "cell_type": "code",
   "execution_count": 626,
   "metadata": {},
   "outputs": [],
   "source": [
    "#Exporting dataframe to Excel file\n",
    "new_dataset.to_excel(\"cas raw data.xlsx\")"
   ]
  }
 ],
 "metadata": {
  "kernelspec": {
   "display_name": "Python 3.9.12 ('base')",
   "language": "python",
   "name": "python3"
  },
  "language_info": {
   "codemirror_mode": {
    "name": "ipython",
    "version": 3
   },
   "file_extension": ".py",
   "mimetype": "text/x-python",
   "name": "python",
   "nbconvert_exporter": "python",
   "pygments_lexer": "ipython3",
   "version": "3.9.12"
  },
  "orig_nbformat": 4,
  "vscode": {
   "interpreter": {
    "hash": "40d3a090f54c6569ab1632332b64b2c03c39dcf918b08424e98f38b5ae0af88f"
   }
  }
 },
 "nbformat": 4,
 "nbformat_minor": 2
}
